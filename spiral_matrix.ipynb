{
  "nbformat": 4,
  "nbformat_minor": 0,
  "metadata": {
    "colab": {
      "name": "spiral-matrix.ipynb",
      "provenance": [],
      "authorship_tag": "ABX9TyPIlUUvyXoR4LkH7026RYM6",
      "include_colab_link": true
    },
    "kernelspec": {
      "name": "python3",
      "display_name": "Python 3"
    }
  },
  "cells": [
    {
      "cell_type": "markdown",
      "metadata": {
        "id": "view-in-github",
        "colab_type": "text"
      },
      "source": [
        "<a href=\"https://colab.research.google.com/github/mjzarrin/Leetcode-Solutions/blob/master/spiral_matrix.ipynb\" target=\"_parent\"><img src=\"https://colab.research.google.com/assets/colab-badge.svg\" alt=\"Open In Colab\"/></a>"
      ]
    },
    {
      "cell_type": "markdown",
      "metadata": {
        "id": "2iray0fbG4sV",
        "colab_type": "text"
      },
      "source": [
        "# Question:\n",
        "\n",
        "https://leetcode.com/problems/spiral-matrix/\n"
      ]
    },
    {
      "cell_type": "markdown",
      "metadata": {
        "id": "yOsE_uqKS5bI",
        "colab_type": "text"
      },
      "source": [
        "# Solution"
      ]
    },
    {
      "cell_type": "code",
      "metadata": {
        "id": "T5m1Ikk2Hzi6",
        "colab_type": "code",
        "colab": {}
      },
      "source": [
        "from typing import List"
      ],
      "execution_count": 0,
      "outputs": []
    },
    {
      "cell_type": "code",
      "metadata": {
        "id": "l6K4Zvh9GzzK",
        "colab_type": "code",
        "colab": {}
      },
      "source": [
        "class Solution:\n",
        "    def spiralOrder(self, matrix: List[List[int]]) -> List[int]:\n",
        "      # directions = ['r','d','l','u']\n",
        "      direction = 'r'\n",
        "      n = len(matrix)\n",
        "      if n ==0:\n",
        "        return []\n",
        "      m = len(matrix[0])\n",
        "      if m ==0:\n",
        "        return []\n",
        "\n",
        "      pm = 0 \n",
        "      pn = 1\n",
        "      \n",
        "      x = 0\n",
        "      y = -1\n",
        "      # for i in range(m*n):\n",
        "      output = []\n",
        "      while len(output) != m*n:\n",
        "        if direction == 'r' :\n",
        "          for i in range(m-pm):\n",
        "            y +=1\n",
        "     \n",
        "            output.append(matrix[x][y])\n",
        "          direction = 'd'\n",
        "          pm += 1\n",
        "        elif direction == 'd' :\n",
        "          for i in range(n-pn):\n",
        "            x +=1\n",
        "           \n",
        "            output.append(matrix[x][y])\n",
        "          direction = 'l'\n",
        "          pn += 1\n",
        "        elif direction == 'l' :\n",
        "          for i in range(m-pm):\n",
        "            y -=1\n",
        "           \n",
        "            output.append(matrix[x][y])\n",
        "          direction = 'u'\n",
        "          pm += 1\n",
        "        elif direction == 'u' :\n",
        "          for i in range(n-pn):\n",
        "            x -=1\n",
        "            \n",
        "            output.append(matrix[x][y])\n",
        "          direction = 'r'\n",
        "          pn += 1\n",
        "\n",
        "      return output"
      ],
      "execution_count": 0,
      "outputs": []
    },
    {
      "cell_type": "markdown",
      "metadata": {
        "id": "S_8KN0iPOn3P",
        "colab_type": "text"
      },
      "source": [
        "# Test"
      ]
    },
    {
      "cell_type": "code",
      "metadata": {
        "id": "e1UVLnrJPAHk",
        "colab_type": "code",
        "colab": {}
      },
      "source": [
        "s = Solution()"
      ],
      "execution_count": 0,
      "outputs": []
    },
    {
      "cell_type": "code",
      "metadata": {
        "id": "UnKWFeokHueN",
        "colab_type": "code",
        "outputId": "637fcb24-e796-429a-c551-0220c37e78c9",
        "colab": {
          "base_uri": "https://localhost:8080/",
          "height": 51
        }
      },
      "source": [
        "matrix = [\n",
        "  [1, 2, 3, 4],\n",
        "  [5, 6, 7, 8],\n",
        "  [9,10,11,12]\n",
        "]\n",
        "print(matrix)\n",
        "s.spiralOrder(matrix)"
      ],
      "execution_count": 43,
      "outputs": [
        {
          "output_type": "stream",
          "text": [
            "[[1, 2, 3, 4], [5, 6, 7, 8], [9, 10, 11, 12]]\n"
          ],
          "name": "stdout"
        },
        {
          "output_type": "execute_result",
          "data": {
            "text/plain": [
              "[1, 2, 3, 4, 8, 12, 11, 10, 9, 5, 6, 7]"
            ]
          },
          "metadata": {
            "tags": []
          },
          "execution_count": 43
        }
      ]
    },
    {
      "cell_type": "code",
      "metadata": {
        "id": "h1_FCwoSy-vW",
        "colab_type": "code",
        "colab": {
          "base_uri": "https://localhost:8080/",
          "height": 34
        },
        "outputId": "251c1a13-e645-418a-c09c-b82e7acf0aac"
      },
      "source": [
        "o"
      ],
      "execution_count": 25,
      "outputs": [
        {
          "output_type": "execute_result",
          "data": {
            "text/plain": [
              "[1, 2, 3, 6, 9, 8, 7, 4, 5]"
            ]
          },
          "metadata": {
            "tags": []
          },
          "execution_count": 25
        }
      ]
    },
    {
      "cell_type": "markdown",
      "metadata": {
        "id": "q3a-v45HSccZ",
        "colab_type": "text"
      },
      "source": [
        "# Results\n",
        "Runtime: 176 ms\n",
        "Memory Usage: 13.9 MB\n"
      ]
    }
  ]
}