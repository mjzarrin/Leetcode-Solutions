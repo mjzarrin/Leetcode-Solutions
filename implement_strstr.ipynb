{
  "nbformat": 4,
  "nbformat_minor": 0,
  "metadata": {
    "colab": {
      "name": "implement-strstr.ipynb",
      "provenance": [],
      "collapsed_sections": [],
      "authorship_tag": "ABX9TyNNOvysGNT4/nDl3o1fAc9H",
      "include_colab_link": true
    },
    "kernelspec": {
      "name": "python3",
      "display_name": "Python 3"
    }
  },
  "cells": [
    {
      "cell_type": "markdown",
      "metadata": {
        "id": "view-in-github",
        "colab_type": "text"
      },
      "source": [
        "<a href=\"https://colab.research.google.com/github/mjzarrin/Leetcode-Solutions/blob/master/implement_strstr.ipynb\" target=\"_parent\"><img src=\"https://colab.research.google.com/assets/colab-badge.svg\" alt=\"Open In Colab\"/></a>"
      ]
    },
    {
      "cell_type": "markdown",
      "metadata": {
        "id": "2iray0fbG4sV",
        "colab_type": "text"
      },
      "source": [
        "# Question:\n",
        "\n",
        "https://leetcode.com/problems/implement-strstr/\n"
      ]
    },
    {
      "cell_type": "markdown",
      "metadata": {
        "id": "yOsE_uqKS5bI",
        "colab_type": "text"
      },
      "source": [
        "# Solution"
      ]
    },
    {
      "cell_type": "code",
      "metadata": {
        "id": "l6K4Zvh9GzzK",
        "colab_type": "code",
        "colab": {}
      },
      "source": [
        "class Solution:\n",
        "    def strStr(self, haystack: str, needle: str) -> int:\n",
        "      if needle == '':\n",
        "        return 0\n",
        "      if len(haystack) < len(needle):\n",
        "        return -1\n",
        "      for i in range(len(haystack) - len(needle)+1):\n",
        "        found = False\n",
        "        for j in range(len(needle)):\n",
        "          if haystack[i+j] == needle[j]:\n",
        "            if j == len(needle)-1:\n",
        "              found = True\n",
        "              break\n",
        "            continue\n",
        "          else:\n",
        "            break\n",
        "        if found:\n",
        "          return i     \n",
        "      return -1\n"
      ],
      "execution_count": 0,
      "outputs": []
    },
    {
      "cell_type": "markdown",
      "metadata": {
        "id": "S_8KN0iPOn3P",
        "colab_type": "text"
      },
      "source": [
        "# Test"
      ]
    },
    {
      "cell_type": "code",
      "metadata": {
        "id": "e1UVLnrJPAHk",
        "colab_type": "code",
        "colab": {}
      },
      "source": [
        "s = Solution()"
      ],
      "execution_count": 0,
      "outputs": []
    },
    {
      "cell_type": "code",
      "metadata": {
        "id": "UnKWFeokHueN",
        "colab_type": "code",
        "outputId": "0269eaf0-0831-467e-9e7b-a657e1b605e5",
        "colab": {
          "base_uri": "https://localhost:8080/",
          "height": 204
        }
      },
      "source": [
        "haystack = \"mississippi\"\n",
        "needle = \"ssippi\"\n",
        "s.strStr(haystack,needle)"
      ],
      "execution_count": 55,
      "outputs": [
        {
          "output_type": "stream",
          "text": [
            "s\n",
            "s\n",
            "i\n",
            "s\n",
            "s\n",
            "s\n",
            "i\n",
            "p\n",
            "p\n",
            "i\n"
          ],
          "name": "stdout"
        },
        {
          "output_type": "execute_result",
          "data": {
            "text/plain": [
              "5"
            ]
          },
          "metadata": {
            "tags": []
          },
          "execution_count": 55
        }
      ]
    }
  ]
}