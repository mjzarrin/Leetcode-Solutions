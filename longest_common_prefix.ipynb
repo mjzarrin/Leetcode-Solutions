{
  "nbformat": 4,
  "nbformat_minor": 0,
  "metadata": {
    "colab": {
      "name": "longest-common-prefix.ipynb",
      "provenance": [],
      "authorship_tag": "ABX9TyPKEHN/A5Gpt9cleEm60UaJ",
      "include_colab_link": true
    },
    "kernelspec": {
      "name": "python3",
      "display_name": "Python 3"
    }
  },
  "cells": [
    {
      "cell_type": "markdown",
      "metadata": {
        "id": "view-in-github",
        "colab_type": "text"
      },
      "source": [
        "<a href=\"https://colab.research.google.com/github/mjzarrin/Leetcode-Solutions/blob/master/longest_common_prefix.ipynb\" target=\"_parent\"><img src=\"https://colab.research.google.com/assets/colab-badge.svg\" alt=\"Open In Colab\"/></a>"
      ]
    },
    {
      "cell_type": "markdown",
      "metadata": {
        "id": "2iray0fbG4sV",
        "colab_type": "text"
      },
      "source": [
        "# Question:\n",
        "\n",
        "https://leetcode.com/problems/longest-common-prefix/\n"
      ]
    },
    {
      "cell_type": "markdown",
      "metadata": {
        "id": "yOsE_uqKS5bI",
        "colab_type": "text"
      },
      "source": [
        "# Solution"
      ]
    },
    {
      "cell_type": "code",
      "metadata": {
        "id": "T5m1Ikk2Hzi6",
        "colab_type": "code",
        "colab": {}
      },
      "source": [
        "from typing import List"
      ],
      "execution_count": 0,
      "outputs": []
    },
    {
      "cell_type": "code",
      "metadata": {
        "id": "C3UFc-Kze4sz",
        "colab_type": "code",
        "colab": {
          "base_uri": "https://localhost:8080/",
          "height": 34
        },
        "outputId": "9c27bc82-dd1b-4c9e-be38-b7f682ff73da"
      },
      "source": [
        "min([len(x) for x in input ])"
      ],
      "execution_count": 6,
      "outputs": [
        {
          "output_type": "execute_result",
          "data": {
            "text/plain": [
              "4"
            ]
          },
          "metadata": {
            "tags": []
          },
          "execution_count": 6
        }
      ]
    },
    {
      "cell_type": "code",
      "metadata": {
        "id": "l6K4Zvh9GzzK",
        "colab_type": "code",
        "colab": {}
      },
      "source": [
        "class Solution:\n",
        "    def longestCommonPrefix(self, strs: List[str]) -> str:\n",
        "      if len(strs) == 0:\n",
        "        return ''\n",
        "      if len(strs) == 1:\n",
        "        return strs[0]\n",
        "\n",
        "      max_range = min([len(s) for s in strs ])\n",
        "      if max_range == 0:\n",
        "        return ''\n",
        "      \n",
        "      for i in range(max_range): # Character Pointer\n",
        "        comm = ''\n",
        "        for j in range(len(strs)): # Word Pointer\n",
        "          if j==0:\n",
        "            comm = strs[j][i]\n",
        "          elif strs[j][i] != comm:\n",
        "            return strs[0][:i]\n",
        "      \n",
        "      return strs[0][:i+1]\n",
        " \n",
        "\n",
        "\n",
        "        "
      ],
      "execution_count": 0,
      "outputs": []
    },
    {
      "cell_type": "markdown",
      "metadata": {
        "id": "S_8KN0iPOn3P",
        "colab_type": "text"
      },
      "source": [
        "# Test"
      ]
    },
    {
      "cell_type": "code",
      "metadata": {
        "id": "e1UVLnrJPAHk",
        "colab_type": "code",
        "colab": {}
      },
      "source": [
        "s = Solution()"
      ],
      "execution_count": 0,
      "outputs": []
    },
    {
      "cell_type": "code",
      "metadata": {
        "id": "UnKWFeokHueN",
        "colab_type": "code",
        "outputId": "2f5f9ee2-c72d-4d85-fc8a-c29fa895db06",
        "colab": {
          "base_uri": "https://localhost:8080/",
          "height": 51
        }
      },
      "source": [
        "input = [\"cd\",\"cd\"]\n",
        "print(input)\n",
        "s.longestCommonPrefix(input)"
      ],
      "execution_count": 55,
      "outputs": [
        {
          "output_type": "stream",
          "text": [
            "['cd', 'cd']\n"
          ],
          "name": "stdout"
        },
        {
          "output_type": "execute_result",
          "data": {
            "text/plain": [
              "'cd'"
            ]
          },
          "metadata": {
            "tags": []
          },
          "execution_count": 55
        }
      ]
    }
  ]
}