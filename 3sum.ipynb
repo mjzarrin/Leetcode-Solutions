{
  "nbformat": 4,
  "nbformat_minor": 0,
  "metadata": {
    "colab": {
      "name": "3sum.ipynb",
      "provenance": [],
      "authorship_tag": "ABX9TyMOf4KuR8fZ6Ww/+TygJhqA",
      "include_colab_link": true
    },
    "kernelspec": {
      "name": "python3",
      "display_name": "Python 3"
    }
  },
  "cells": [
    {
      "cell_type": "markdown",
      "metadata": {
        "id": "view-in-github",
        "colab_type": "text"
      },
      "source": [
        "<a href=\"https://colab.research.google.com/github/mjzarrin/Leetcode-Solutions/blob/master/3sum.ipynb\" target=\"_parent\"><img src=\"https://colab.research.google.com/assets/colab-badge.svg\" alt=\"Open In Colab\"/></a>"
      ]
    },
    {
      "cell_type": "markdown",
      "metadata": {
        "id": "2iray0fbG4sV",
        "colab_type": "text"
      },
      "source": [
        "# Question:\n",
        "\n",
        "https://leetcode.com/problems/3sum/\n"
      ]
    },
    {
      "cell_type": "markdown",
      "metadata": {
        "id": "yOsE_uqKS5bI",
        "colab_type": "text"
      },
      "source": [
        "# Solution"
      ]
    },
    {
      "cell_type": "code",
      "metadata": {
        "id": "T5m1Ikk2Hzi6",
        "colab_type": "code",
        "colab": {}
      },
      "source": [
        "from typing import List"
      ],
      "execution_count": 0,
      "outputs": []
    },
    {
      "cell_type": "code",
      "metadata": {
        "id": "l6K4Zvh9GzzK",
        "colab_type": "code",
        "colab": {}
      },
      "source": [
        "class Solution:\n",
        "\n",
        "\n",
        "    def threeSum(self, nums: List[int]) -> List[List[int]]:\n",
        "      if len(nums) < 3:\n",
        "        return []\n",
        "      output = []\n",
        "\n",
        "      if nums.count(0) > 2 :\n",
        "\n",
        "        output.append([0,0,0])\n",
        "        while True:\n",
        "          try:\n",
        "            nums.remove(0)\n",
        "          except:\n",
        "            break\n",
        "        nums.append(0)\n",
        "\n",
        "      negative =[]\n",
        "      positive = []\n",
        "      maximum = 0\n",
        "      fol_max = 0\n",
        "      minimum = 0\n",
        "      fol_min = 0\n",
        "      for item in nums: # seprate into pos and neg lists - find max, min, 2nd max, 2nd min\n",
        "        if item >= 0:\n",
        "          positive.append(item)\n",
        "          if item>maximum:\n",
        "            fol_max = maximum\n",
        "            maximum = item\n",
        "          elif item<= maximum and item > fol_max:\n",
        "            fol_max = item\n",
        "        if item <= 0 :\n",
        "          negative.append(item)\n",
        "          if item<minimum:\n",
        "            fol_min = minimum\n",
        "            minimum = item\n",
        "          elif item >= minimum and item < fol_min:\n",
        "            fol_min = item\n",
        "     \n",
        "      # print('negative',negative)\n",
        "      # print('positive',positive)\n",
        "      # print(maximum,fol_max,fol_min,minimum)\n",
        "\n",
        "\n",
        "      pos = []\n",
        "      neg = []\n",
        "      for item in positive:\n",
        "        if item <= -(fol_min+minimum):\n",
        "          pos.append(item)\n",
        "      for item in negative:\n",
        "        if item >= -(fol_max+maximum):\n",
        "          neg.append(item)\n",
        "\n",
        "      pos_sum = set()\n",
        "      neg_sum = set()\n",
        "\n",
        "      indices = dict()\n",
        "\n",
        "      for i in range(len(pos)-1):\n",
        "        for j in range(i+1,len(pos)):\n",
        "          s = pos[i]+pos[j]\n",
        "          try:\n",
        "            indices[s].append((i,j))\n",
        "          except:\n",
        "            indices[s] = [(i,j)]\n",
        "          \n",
        "          pos_sum.add(s)\n",
        "\n",
        "      for i in range(len(neg)-1):\n",
        "        for j in range(i+1,len(neg)):\n",
        "          s = neg[i]+neg[j]\n",
        "          try:\n",
        "            indices[s].append((i,j))\n",
        "          except:\n",
        "            indices[s] = [(i,j)]\n",
        "\n",
        "          neg_sum.add(neg[i]+neg[j])\n",
        "\n",
        "      # print('pos_sum',pos_sum)\n",
        "      # print('neg_sum',neg_sum)\n",
        "      # print('indices',indices)\n",
        "\n",
        "      neg_int = set(neg).intersection([-x for x in pos_sum])\n",
        "      pos_int = set(pos).intersection([-x for x in neg_sum ])\n",
        "\n",
        "      # print('pos_int',pos_int)\n",
        "      # print('neg_int',neg_int)\n",
        "      \n",
        "      temp = set()\n",
        "      for item in pos_int:\n",
        "        if item == 0:\n",
        "          continue\n",
        "        for e in indices[-item]:\n",
        "          o = [neg[e[0]],neg[e[1]] , item ]\n",
        "          # print('o',o)\n",
        "          o.sort()\n",
        "          bef = len(temp)\n",
        "          temp.add(''.join(map(str,o)))\n",
        "          if len(temp) > bef:\n",
        "            # print('appended',o)\n",
        "            output.append(o)\n",
        "\n",
        "      for item in neg_int:\n",
        "        if item == 0:\n",
        "          continue\n",
        "        for e in indices[-item]:\n",
        "          o = [pos[e[0]],pos[e[1]],item ]\n",
        "          # print('o',o)\n",
        "          o.sort()\n",
        "          bef = len(temp)\n",
        "          temp.add(''.join(map(str,o)))\n",
        "          if len(temp) > bef:\n",
        "            # print('appended',o)\n",
        "            output.append(o)\n",
        "\n",
        "      return output\n"
      ],
      "execution_count": 0,
      "outputs": []
    },
    {
      "cell_type": "markdown",
      "metadata": {
        "id": "S_8KN0iPOn3P",
        "colab_type": "text"
      },
      "source": [
        "# Test"
      ]
    },
    {
      "cell_type": "code",
      "metadata": {
        "id": "e1UVLnrJPAHk",
        "colab_type": "code",
        "colab": {}
      },
      "source": [
        "s = Solution()"
      ],
      "execution_count": 0,
      "outputs": []
    },
    {
      "cell_type": "code",
      "metadata": {
        "id": "UnKWFeokHueN",
        "colab_type": "code",
        "outputId": "e7242c77-3e6b-4818-b3d9-d6212abae485",
        "colab": {
          "base_uri": "https://localhost:8080/",
          "height": 51
        }
      },
      "source": [
        "nums = [-2,0,1,1,2]\n",
        "print(nums)\n",
        "s.threeSum(nums)"
      ],
      "execution_count": 137,
      "outputs": [
        {
          "output_type": "stream",
          "text": [
            "[-2, 0, 1, 1, 2]\n"
          ],
          "name": "stdout"
        },
        {
          "output_type": "execute_result",
          "data": {
            "text/plain": [
              "[[-2, 0, 2], [-2, 1, 1]]"
            ]
          },
          "metadata": {
            "tags": []
          },
          "execution_count": 137
        }
      ]
    },
    {
      "cell_type": "markdown",
      "metadata": {
        "id": "q3a-v45HSccZ",
        "colab_type": "text"
      },
      "source": [
        "# Results\n",
        "Runtime: 2628 ms, faster than 5.03% of Python3 online submissions for 3Sum.\n",
        "Memory Usage: 345.6 MB, less than 5.71% of Python3 online submissions for 3Sum.\n"
      ]
    }
  ]
}