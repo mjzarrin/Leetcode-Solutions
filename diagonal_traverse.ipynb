{
  "nbformat": 4,
  "nbformat_minor": 0,
  "metadata": {
    "colab": {
      "name": "diagonal-traverse.ipynb",
      "provenance": [],
      "authorship_tag": "ABX9TyMzaYeloJTuyGe37JN8F1ag",
      "include_colab_link": true
    },
    "kernelspec": {
      "name": "python3",
      "display_name": "Python 3"
    }
  },
  "cells": [
    {
      "cell_type": "markdown",
      "metadata": {
        "id": "view-in-github",
        "colab_type": "text"
      },
      "source": [
        "<a href=\"https://colab.research.google.com/github/mjzarrin/Leetcode-Solutions/blob/master/diagonal_traverse.ipynb\" target=\"_parent\"><img src=\"https://colab.research.google.com/assets/colab-badge.svg\" alt=\"Open In Colab\"/></a>"
      ]
    },
    {
      "cell_type": "markdown",
      "metadata": {
        "id": "2iray0fbG4sV",
        "colab_type": "text"
      },
      "source": [
        "# Question:\n",
        "\n",
        "https://leetcode.com/problems/diagonal-traverse/\n"
      ]
    },
    {
      "cell_type": "markdown",
      "metadata": {
        "id": "yOsE_uqKS5bI",
        "colab_type": "text"
      },
      "source": [
        "# Solution"
      ]
    },
    {
      "cell_type": "code",
      "metadata": {
        "id": "T5m1Ikk2Hzi6",
        "colab_type": "code",
        "colab": {}
      },
      "source": [
        "from typing import List"
      ],
      "execution_count": 0,
      "outputs": []
    },
    {
      "cell_type": "code",
      "metadata": {
        "id": "l6K4Zvh9GzzK",
        "colab_type": "code",
        "colab": {}
      },
      "source": [
        "class Solution:\n",
        "\n",
        "    def findDiagonalOrder(self, matrix: List[List[int]]) -> List[int]:\n",
        "\n",
        "      m = len(matrix)\n",
        "      if m == 0:\n",
        "        return []\n",
        "\n",
        "      n = len(matrix[0])\n",
        "      if n == 0:\n",
        "        return []\n",
        "\n",
        "      direction = True # True for NE _ False for SW\n",
        "      x = 0\n",
        "      y = 0\n",
        "      output = [matrix[0][0]]\n",
        "      for i in range(m*n  -1):\n",
        "\n",
        "        if direction == True and x == 0 and y != n-1:\n",
        "          y +=1\n",
        "          direction = False\n",
        "        elif direction == False and y ==0 and x != m-1:\n",
        "          x +=1\n",
        "          direction = True \n",
        "\n",
        "        elif direction == True and y == n-1 :\n",
        "          x +=1\n",
        "          direction = False\n",
        "\n",
        "        elif direction == False and x == m-1:\n",
        "          y +=1\n",
        "          direction = True\n",
        "\n",
        "        elif direction == True:\n",
        "          x -=1\n",
        "          y +=1\n",
        "        elif direction == False:\n",
        "          x += 1\n",
        "          y -=1 \n",
        "\n",
        "        output.append(matrix[x][y])\n",
        "      return output"
      ],
      "execution_count": 0,
      "outputs": []
    },
    {
      "cell_type": "markdown",
      "metadata": {
        "id": "S_8KN0iPOn3P",
        "colab_type": "text"
      },
      "source": [
        "# Test"
      ]
    },
    {
      "cell_type": "code",
      "metadata": {
        "id": "e1UVLnrJPAHk",
        "colab_type": "code",
        "colab": {}
      },
      "source": [
        "s = Solution()"
      ],
      "execution_count": 0,
      "outputs": []
    },
    {
      "cell_type": "code",
      "metadata": {
        "id": "UnKWFeokHueN",
        "colab_type": "code",
        "outputId": "578adb24-67b8-491d-ebdf-02a95e2e59b7",
        "colab": {
          "base_uri": "https://localhost:8080/",
          "height": 51
        }
      },
      "source": [
        "matrix = [[1,2,3],[4,5,6],[7,8,9]]\n",
        "print(matrix)\n",
        "s.findDiagonalOrder(matrix)"
      ],
      "execution_count": 80,
      "outputs": [
        {
          "output_type": "stream",
          "text": [
            "[[1, 2, 3], [4, 5, 6], [7, 8, 9]]\n"
          ],
          "name": "stdout"
        },
        {
          "output_type": "execute_result",
          "data": {
            "text/plain": [
              "[1, 2, 4, 7, 5, 3, 6, 8, 9]"
            ]
          },
          "metadata": {
            "tags": []
          },
          "execution_count": 80
        }
      ]
    }
  ]
}