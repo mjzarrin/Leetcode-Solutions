{
  "nbformat": 4,
  "nbformat_minor": 0,
  "metadata": {
    "colab": {
      "name": "Permutation in a String.ipynb",
      "provenance": [],
      "collapsed_sections": [],
      "authorship_tag": "ABX9TyNEaAe+1BVLhTF/pFrTEMb7",
      "include_colab_link": true
    },
    "kernelspec": {
      "name": "python3",
      "display_name": "Python 3"
    }
  },
  "cells": [
    {
      "cell_type": "markdown",
      "metadata": {
        "id": "view-in-github",
        "colab_type": "text"
      },
      "source": [
        "<a href=\"https://colab.research.google.com/github/mjzarrin/Leetcode-Solutions/blob/master/Permutation_in_a_String.ipynb\" target=\"_parent\"><img src=\"https://colab.research.google.com/assets/colab-badge.svg\" alt=\"Open In Colab\"/></a>"
      ]
    },
    {
      "cell_type": "markdown",
      "metadata": {
        "id": "2iray0fbG4sV",
        "colab_type": "text"
      },
      "source": [
        "# Question:\n",
        "https://www.educative.io/courses/grokking-the-coding-interview/N8vB7OVYo2D\n"
      ]
    },
    {
      "cell_type": "markdown",
      "metadata": {
        "id": "yOsE_uqKS5bI",
        "colab_type": "text"
      },
      "source": [
        "# Solution"
      ]
    },
    {
      "cell_type": "code",
      "metadata": {
        "id": "l6K4Zvh9GzzK",
        "colab_type": "code",
        "colab": {
          "base_uri": "https://localhost:8080/",
          "height": 102
        },
        "outputId": "0566d1da-8384-4f9f-c64f-de412be73b8b"
      },
      "source": [
        "def find_permutation(str, pattern):\n",
        "  dt = dict()\n",
        "  for c in pattern:\n",
        "    if dt.get(c) != None:\n",
        "      dt[c] = dt[c]  +1\n",
        "    else:\n",
        "      dt[c] = 1\n",
        "\n",
        "  d = dt.copy()\n",
        "  for c in str:\n",
        "    if d.get(c) != None:\n",
        "      if d.get(c) == 1:\n",
        "        \n",
        "        d.pop(c)\n",
        "        if len(d) == 0:\n",
        "          return True\n",
        "      else:\n",
        "        d[c] = d[c] -1\n",
        "      \n",
        "    else:\n",
        "      # reset\n",
        "      d = dt.copy()\n",
        "\n",
        "  return False\n",
        "\n",
        "\n",
        "def main():\n",
        "  print('Permutation exist: ' + str(find_permutation(\"oidbcaf\", \"abc\")))\n",
        "  print('Permutation exist: ' + str(find_permutation(\"odicf\", \"dc\")))\n",
        "  print('Permutation exist: ' + str(find_permutation(\"bcdxabcdy\", \"bcdyabcdx\")))\n",
        "  print('Permutation exist: ' + str(find_permutation(\"aaacb\", \"abc\")))\n",
        "  print('Permutation exist: ' + str(find_permutation(\"abcdeabcdx\", \"abcdxabcde\")))\n",
        "main() "
      ],
      "execution_count": 18,
      "outputs": [
        {
          "output_type": "stream",
          "text": [
            "Permutation exist: True\n",
            "Permutation exist: False\n",
            "Permutation exist: True\n",
            "Permutation exist: True\n",
            "Permutation exist: True\n"
          ],
          "name": "stdout"
        }
      ]
    }
  ]
}