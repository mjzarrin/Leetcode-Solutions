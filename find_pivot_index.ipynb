{
  "nbformat": 4,
  "nbformat_minor": 0,
  "metadata": {
    "colab": {
      "name": "find-pivot-index.ipynb",
      "provenance": [],
      "authorship_tag": "ABX9TyOXYE8mp97GmSALHg3l0Mf3",
      "include_colab_link": true
    },
    "kernelspec": {
      "name": "python3",
      "display_name": "Python 3"
    }
  },
  "cells": [
    {
      "cell_type": "markdown",
      "metadata": {
        "id": "view-in-github",
        "colab_type": "text"
      },
      "source": [
        "<a href=\"https://colab.research.google.com/github/mjzarrin/Leetcode-Solutions/blob/master/find_pivot_index.ipynb\" target=\"_parent\"><img src=\"https://colab.research.google.com/assets/colab-badge.svg\" alt=\"Open In Colab\"/></a>"
      ]
    },
    {
      "cell_type": "markdown",
      "metadata": {
        "id": "2iray0fbG4sV",
        "colab_type": "text"
      },
      "source": [
        "# Question:\n",
        "\n",
        "https://leetcode.com/problems/find-pivot-index\n"
      ]
    },
    {
      "cell_type": "markdown",
      "metadata": {
        "id": "yOsE_uqKS5bI",
        "colab_type": "text"
      },
      "source": [
        "# Solution"
      ]
    },
    {
      "cell_type": "code",
      "metadata": {
        "id": "T5m1Ikk2Hzi6",
        "colab_type": "code",
        "colab": {}
      },
      "source": [
        "from typing import List"
      ],
      "execution_count": 0,
      "outputs": []
    },
    {
      "cell_type": "code",
      "metadata": {
        "id": "l6K4Zvh9GzzK",
        "colab_type": "code",
        "colab": {}
      },
      "source": [
        "class Solution:\n",
        "    def pivotIndex(self, nums: List[int]) -> int:\n",
        "        right_sum = 0\n",
        "        left_sum = sum(nums)\n",
        "        for i in range(len(nums)):\n",
        "            left_sum -= nums[i]\n",
        "            if right_sum == left_sum :\n",
        "                return i\n",
        "            right_sum += nums[i]\n",
        "        return -1"
      ],
      "execution_count": 0,
      "outputs": []
    },
    {
      "cell_type": "markdown",
      "metadata": {
        "id": "S_8KN0iPOn3P",
        "colab_type": "text"
      },
      "source": [
        "# Test"
      ]
    },
    {
      "cell_type": "code",
      "metadata": {
        "id": "e1UVLnrJPAHk",
        "colab_type": "code",
        "colab": {}
      },
      "source": [
        "s = Solution()"
      ],
      "execution_count": 0,
      "outputs": []
    },
    {
      "cell_type": "code",
      "metadata": {
        "id": "UnKWFeokHueN",
        "colab_type": "code",
        "outputId": "97e6eadb-2960-4f2b-f324-37399dc0f982",
        "colab": {
          "base_uri": "https://localhost:8080/",
          "height": 51
        }
      },
      "source": [
        "nums = [4,5,6,7,-1,3]\n",
        "print(nums)\n",
        "s.pivotIndex(nums)"
      ],
      "execution_count": 9,
      "outputs": [
        {
          "output_type": "stream",
          "text": [
            "[4, 5, 6, 7, -1, 3]\n"
          ],
          "name": "stdout"
        },
        {
          "output_type": "execute_result",
          "data": {
            "text/plain": [
              "2"
            ]
          },
          "metadata": {
            "tags": []
          },
          "execution_count": 9
        }
      ]
    },
    {
      "cell_type": "markdown",
      "metadata": {
        "id": "q3a-v45HSccZ",
        "colab_type": "text"
      },
      "source": [
        "# Results\n",
        "Runtime: 176 ms\n",
        "Memory Usage: 13.9 MB\n"
      ]
    }
  ]
}