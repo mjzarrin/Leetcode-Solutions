{
  "nbformat": 4,
  "nbformat_minor": 0,
  "metadata": {
    "colab": {
      "name": "pascals-triangle.ipynb",
      "provenance": [],
      "authorship_tag": "ABX9TyMM5JE/iryPcwPcHZuNy5r2",
      "include_colab_link": true
    },
    "kernelspec": {
      "name": "python3",
      "display_name": "Python 3"
    }
  },
  "cells": [
    {
      "cell_type": "markdown",
      "metadata": {
        "id": "view-in-github",
        "colab_type": "text"
      },
      "source": [
        "<a href=\"https://colab.research.google.com/github/mjzarrin/Leetcode-Solutions/blob/master/pascals_triangle.ipynb\" target=\"_parent\"><img src=\"https://colab.research.google.com/assets/colab-badge.svg\" alt=\"Open In Colab\"/></a>"
      ]
    },
    {
      "cell_type": "markdown",
      "metadata": {
        "id": "2iray0fbG4sV",
        "colab_type": "text"
      },
      "source": [
        "# Question:\n",
        "\n",
        "https://leetcode.com/problems/pascals-triangle/\n"
      ]
    },
    {
      "cell_type": "markdown",
      "metadata": {
        "id": "yOsE_uqKS5bI",
        "colab_type": "text"
      },
      "source": [
        "# Solution"
      ]
    },
    {
      "cell_type": "code",
      "metadata": {
        "id": "T5m1Ikk2Hzi6",
        "colab_type": "code",
        "colab": {}
      },
      "source": [
        "from typing import List"
      ],
      "execution_count": 0,
      "outputs": []
    },
    {
      "cell_type": "code",
      "metadata": {
        "id": "1cW33gU6If4M",
        "colab_type": "code",
        "colab": {}
      },
      "source": [
        "class Solution:\n",
        "    def generate(self, numRows: int) -> List[List[int]]:\n",
        "      pascal_triangle = []\n",
        "      if numRows <= 0:\n",
        "        return []\n",
        "      else :\n",
        "        pascal_triangle = [ [1] ]\n",
        "        for i in range(numRows-1):\n",
        "          l = []\n",
        "          for j in range(len(pascal_triangle[i])+1):\n",
        "\n",
        "            if j ==0:\n",
        "              l.append(pascal_triangle[i][j])\n",
        "            elif j == len(pascal_triangle[i]):\n",
        "              l.append(pascal_triangle[i][j-1])\n",
        "            else:\n",
        "              l.append(pascal_triangle[i][j]+pascal_triangle[i][j-1])\n",
        "\n",
        "          pascal_triangle.append(l)\n",
        "\n",
        "      return pascal_triangle"
      ],
      "execution_count": 0,
      "outputs": []
    },
    {
      "cell_type": "markdown",
      "metadata": {
        "id": "S_8KN0iPOn3P",
        "colab_type": "text"
      },
      "source": [
        "# Test"
      ]
    },
    {
      "cell_type": "code",
      "metadata": {
        "id": "e1UVLnrJPAHk",
        "colab_type": "code",
        "colab": {}
      },
      "source": [
        "s = Solution()"
      ],
      "execution_count": 0,
      "outputs": []
    },
    {
      "cell_type": "code",
      "metadata": {
        "id": "UnKWFeokHueN",
        "colab_type": "code",
        "outputId": "974ea4ff-07c4-4eea-9e9f-a547ab3d7678",
        "colab": {
          "base_uri": "https://localhost:8080/",
          "height": 204
        }
      },
      "source": [
        "numRows = 10\n",
        "print(numRows)\n",
        "s.generate(numRows)"
      ],
      "execution_count": 46,
      "outputs": [
        {
          "output_type": "stream",
          "text": [
            "10\n"
          ],
          "name": "stdout"
        },
        {
          "output_type": "execute_result",
          "data": {
            "text/plain": [
              "[[1],\n",
              " [1, 1],\n",
              " [1, 2, 1],\n",
              " [1, 3, 3, 1],\n",
              " [1, 4, 6, 4, 1],\n",
              " [1, 5, 10, 10, 5, 1],\n",
              " [1, 6, 15, 20, 15, 6, 1],\n",
              " [1, 7, 21, 35, 35, 21, 7, 1],\n",
              " [1, 8, 28, 56, 70, 56, 28, 8, 1],\n",
              " [1, 9, 36, 84, 126, 126, 84, 36, 9, 1]]"
            ]
          },
          "metadata": {
            "tags": []
          },
          "execution_count": 46
        }
      ]
    },
    {
      "cell_type": "markdown",
      "metadata": {
        "id": "URb7C7ZqMKq3",
        "colab_type": "text"
      },
      "source": [
        "# Results\n",
        "Runtime: 20 ms, faster than 97.26% of Python3 online submissions for Pascal's Triangle.\n",
        "Memory Usage: 12.8 MB, less than 100.00% of Python3 online submissions for Pascal's Triangle."
      ]
    }
  ]
}