{
  "nbformat": 4,
  "nbformat_minor": 0,
  "metadata": {
    "colab": {
      "name": "move-zeroes.ipynb",
      "provenance": [],
      "authorship_tag": "ABX9TyP5FCCw5be2gz0ljUnyqZjG",
      "include_colab_link": true
    },
    "kernelspec": {
      "name": "python3",
      "display_name": "Python 3"
    }
  },
  "cells": [
    {
      "cell_type": "markdown",
      "metadata": {
        "id": "view-in-github",
        "colab_type": "text"
      },
      "source": [
        "<a href=\"https://colab.research.google.com/github/mjzarrin/Leetcode-Solutions/blob/master/move_zeroes.ipynb\" target=\"_parent\"><img src=\"https://colab.research.google.com/assets/colab-badge.svg\" alt=\"Open In Colab\"/></a>"
      ]
    },
    {
      "cell_type": "markdown",
      "metadata": {
        "id": "2iray0fbG4sV",
        "colab_type": "text"
      },
      "source": [
        "# Question:\n",
        "\n",
        "https://leetcode.com/problems/move-zeroes\n"
      ]
    },
    {
      "cell_type": "markdown",
      "metadata": {
        "id": "yOsE_uqKS5bI",
        "colab_type": "text"
      },
      "source": [
        "# Solution"
      ]
    },
    {
      "cell_type": "code",
      "metadata": {
        "id": "T5m1Ikk2Hzi6",
        "colab_type": "code",
        "colab": {}
      },
      "source": [
        "from typing import List"
      ],
      "execution_count": 0,
      "outputs": []
    },
    {
      "cell_type": "code",
      "metadata": {
        "id": "l6K4Zvh9GzzK",
        "colab_type": "code",
        "colab": {}
      },
      "source": [
        "class Solution:\n",
        "    def moveZeroes(self, nums: List[int]) -> None:\n",
        "        \"\"\"\n",
        "        Do not return anything, modify nums in-place instead.\n",
        "        \"\"\"\n",
        "        zeros_count = 0\n",
        "        for i in range(len(nums)):\n",
        "          nums[i-zeros_count] = nums[i]\n",
        "          if nums[i] == 0:\n",
        "            zeros_count += 1\n",
        "        for j in range(len(nums)- zeros_count,len(nums)):\n",
        "          nums[j] = 0\n",
        "        \n",
        "    "
      ],
      "execution_count": 0,
      "outputs": []
    },
    {
      "cell_type": "markdown",
      "metadata": {
        "id": "S_8KN0iPOn3P",
        "colab_type": "text"
      },
      "source": [
        "# Test"
      ]
    },
    {
      "cell_type": "code",
      "metadata": {
        "id": "e1UVLnrJPAHk",
        "colab_type": "code",
        "colab": {}
      },
      "source": [
        "s = Solution()"
      ],
      "execution_count": 0,
      "outputs": []
    },
    {
      "cell_type": "code",
      "metadata": {
        "id": "UnKWFeokHueN",
        "colab_type": "code",
        "outputId": "279d3638-c09c-4a97-8d1f-a47b6212e993",
        "colab": {
          "base_uri": "https://localhost:8080/",
          "height": 34
        }
      },
      "source": [
        "nums = [0,1,0,3,12]\n",
        "print(nums)\n",
        "s.moveZeroes(nums)\n"
      ],
      "execution_count": 39,
      "outputs": [
        {
          "output_type": "stream",
          "text": [
            "[0, 1, 0, 3, 12]\n"
          ],
          "name": "stdout"
        }
      ]
    },
    {
      "cell_type": "markdown",
      "metadata": {
        "id": "q3a-v45HSccZ",
        "colab_type": "text"
      },
      "source": [
        "# Results\n",
        "Your runtime beats 91.09 % of python3 submissions\n"
      ]
    }
  ]
}