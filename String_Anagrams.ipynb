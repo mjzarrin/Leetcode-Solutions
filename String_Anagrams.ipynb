{
  "nbformat": 4,
  "nbformat_minor": 0,
  "metadata": {
    "colab": {
      "name": "String Anagrams.ipynb",
      "provenance": [],
      "authorship_tag": "ABX9TyPEgXByvQoX41Uto+vkLjTR",
      "include_colab_link": true
    },
    "kernelspec": {
      "name": "python3",
      "display_name": "Python 3"
    }
  },
  "cells": [
    {
      "cell_type": "markdown",
      "metadata": {
        "id": "view-in-github",
        "colab_type": "text"
      },
      "source": [
        "<a href=\"https://colab.research.google.com/github/mjzarrin/Leetcode-Solutions/blob/master/String_Anagrams.ipynb\" target=\"_parent\"><img src=\"https://colab.research.google.com/assets/colab-badge.svg\" alt=\"Open In Colab\"/></a>"
      ]
    },
    {
      "cell_type": "code",
      "metadata": {
        "id": "UkLrnCv8zhKw",
        "colab_type": "code",
        "colab": {}
      },
      "source": [
        ""
      ],
      "execution_count": 0,
      "outputs": []
    },
    {
      "cell_type": "markdown",
      "metadata": {
        "id": "2iray0fbG4sV",
        "colab_type": "text"
      },
      "source": [
        "# Question:\n",
        "https://www.educative.io/courses/grokking-the-coding-interview/YQ8N2OZq0VM\n",
        "\n"
      ]
    },
    {
      "cell_type": "markdown",
      "metadata": {
        "id": "yOsE_uqKS5bI",
        "colab_type": "text"
      },
      "source": [
        "# Solution"
      ]
    },
    {
      "cell_type": "code",
      "metadata": {
        "id": "l6K4Zvh9GzzK",
        "colab_type": "code",
        "outputId": "ee6ee709-493e-4ece-f881-982dcb9f9f0f",
        "colab": {
          "base_uri": "https://localhost:8080/",
          "height": 340
        }
      },
      "source": [
        "def reset(dt,c):\n",
        "  d = dt.copy()\n",
        "  if d.get(c) != None:\n",
        "    if d.get(c) == 1: \n",
        "      d.pop(c)\n",
        "    else:\n",
        "      d[c] = d[c] -1\n",
        "  return d\n",
        "\n",
        "\n",
        "def find_string_anagrams(str, pattern):\n",
        "  inds = []\n",
        "  dt = dict()\n",
        "  for c in pattern:\n",
        "    if dt.get(c) != None:\n",
        "      dt[c] = dt[c]  +1\n",
        "    else:\n",
        "      dt[c] = 1\n",
        "  d = dt.copy()\n",
        "  for i,c in enumerate(str):\n",
        "    print(i,c)\n",
        "    if d.get(c) != None:\n",
        "      \n",
        "      if d.get(c) == 1: \n",
        "        d.pop(c)\n",
        "        if len(d) == 0:\n",
        "          print('add',i,c)\n",
        "          inds.append(i-len(pattern)+1)\n",
        "          d = reset(dt,c)\n",
        "  \n",
        "          if len(d) == 0:\n",
        "            print('add',i,c)\n",
        "            inds.append(i-len(pattern)+1)\n",
        "      else:\n",
        "        d[c] = d[c] -1\n",
        "      \n",
        "    else:\n",
        "      # reset\n",
        "      print('reset',i,c)\n",
        "      d = reset(dt,c)\n",
        "  \n",
        "      if len(d) == 0:\n",
        "        print('add',i,c)\n",
        "        inds.append(i-len(pattern)+1)\n",
        "  \n",
        "     \n",
        "\n",
        "  return inds\n",
        "\n",
        "\n",
        "def main():\n",
        "  print(find_string_anagrams(\"ppqp\", \"pq\"))\n",
        "  print(find_string_anagrams(\"abbcabc\", \"abc\"))\n",
        "\n",
        "\n",
        "main()\n"
      ],
      "execution_count": 17,
      "outputs": [
        {
          "output_type": "stream",
          "text": [
            "0 p\n",
            "1 p\n",
            "reset 1 p\n",
            "2 q\n",
            "add 2 q\n",
            "3 p\n",
            "add 3 p\n",
            "[1, 2]\n",
            "0 a\n",
            "1 b\n",
            "2 b\n",
            "reset 2 b\n",
            "3 c\n",
            "4 a\n",
            "add 4 a\n",
            "5 b\n",
            "6 c\n",
            "add 6 c\n",
            "[2, 4]\n"
          ],
          "name": "stdout"
        }
      ]
    },
    {
      "cell_type": "code",
      "metadata": {
        "id": "0eEHSz1y0N06",
        "colab_type": "code",
        "colab": {
          "base_uri": "https://localhost:8080/",
          "height": 119
        },
        "outputId": "e2632034-9957-443f-866d-3f2a8de4f3d6"
      },
      "source": [
        "for i,c in enumerate('Dorood'):\n",
        "  print(i,c)"
      ],
      "execution_count": 1,
      "outputs": [
        {
          "output_type": "stream",
          "text": [
            "0 D\n",
            "1 o\n",
            "2 r\n",
            "3 o\n",
            "4 o\n",
            "5 d\n"
          ],
          "name": "stdout"
        }
      ]
    }
  ]
}