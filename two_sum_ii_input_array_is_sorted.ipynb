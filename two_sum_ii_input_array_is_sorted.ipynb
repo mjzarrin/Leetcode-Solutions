{
  "nbformat": 4,
  "nbformat_minor": 0,
  "metadata": {
    "colab": {
      "name": "two-sum-ii-input-array-is-sorted.ipynb",
      "provenance": [],
      "authorship_tag": "ABX9TyPSSrllKhqzrjfzLAgdabdD",
      "include_colab_link": true
    },
    "kernelspec": {
      "name": "python3",
      "display_name": "Python 3"
    }
  },
  "cells": [
    {
      "cell_type": "markdown",
      "metadata": {
        "id": "view-in-github",
        "colab_type": "text"
      },
      "source": [
        "<a href=\"https://colab.research.google.com/github/mjzarrin/Leetcode-Solutions/blob/master/two_sum_ii_input_array_is_sorted.ipynb\" target=\"_parent\"><img src=\"https://colab.research.google.com/assets/colab-badge.svg\" alt=\"Open In Colab\"/></a>"
      ]
    },
    {
      "cell_type": "markdown",
      "metadata": {
        "id": "2iray0fbG4sV",
        "colab_type": "text"
      },
      "source": [
        "# Question:\n",
        "\n",
        "https://leetcode.com/problems/two-sum-ii-input-array-is-sorted\n"
      ]
    },
    {
      "cell_type": "markdown",
      "metadata": {
        "id": "yOsE_uqKS5bI",
        "colab_type": "text"
      },
      "source": [
        "# Solution"
      ]
    },
    {
      "cell_type": "code",
      "metadata": {
        "id": "T5m1Ikk2Hzi6",
        "colab_type": "code",
        "colab": {}
      },
      "source": [
        "from typing import List"
      ],
      "execution_count": 0,
      "outputs": []
    },
    {
      "cell_type": "code",
      "metadata": {
        "id": "l6K4Zvh9GzzK",
        "colab_type": "code",
        "colab": {}
      },
      "source": [
        "class Solution:\n",
        "    def twoSum(self, numbers: List[int], target: int) -> List[int]:\n",
        "      for ind in range(len(numbers)):\n",
        "        try:\n",
        "          # comp_ind = numbers[ind+1:].index(target- numbers[ind])\n",
        "          # return [ind+1,comp_ind+ind+2]\n",
        "\n",
        "          intersect = list(set(numbers) & set([target - x for x in numbers]))\n",
        "          intersect.sort()\n",
        "          if len(intersect) == 2:\n",
        "            return [numbers.index(intersect[0])+1,numbers.index(intersect[1])+1]\n",
        "          elif len(intersect) == 3:\n",
        "            intersect.remove(int(target/2))\n",
        "            return [numbers.index(intersect[0])+1,numbers.index(intersect[1])+1]\n",
        "          elif len(intersect) == 1:\n",
        "            try:\n",
        "              ind = numbers.index(intersect[0])\n",
        "              \n",
        "              del numbers[ind]\n",
        "              comp_ind = numbers.index(intersect[0]) +1\n",
        "              return [ind+1,comp_ind+1]\n",
        "\n",
        "            except:\n",
        "              continue\n",
        "\n",
        "\n",
        "        except:\n",
        "          continue\n",
        "      return [-1,-1]\n",
        "        \n",
        "        \n",
        "        "
      ],
      "execution_count": 0,
      "outputs": []
    },
    {
      "cell_type": "markdown",
      "metadata": {
        "id": "S_8KN0iPOn3P",
        "colab_type": "text"
      },
      "source": [
        "# Test"
      ]
    },
    {
      "cell_type": "code",
      "metadata": {
        "id": "e1UVLnrJPAHk",
        "colab_type": "code",
        "colab": {}
      },
      "source": [
        "s = Solution()"
      ],
      "execution_count": 0,
      "outputs": []
    },
    {
      "cell_type": "code",
      "metadata": {
        "id": "UnKWFeokHueN",
        "colab_type": "code",
        "outputId": "0124b2ca-b774-4298-c8d9-e2ad5584bb74",
        "colab": {
          "base_uri": "https://localhost:8080/",
          "height": 51
        }
      },
      "source": [
        "numbers = [0,0,3,4]\n",
        "target = 0\n",
        "\n",
        "print(numbers)\n",
        "s.twoSum(numbers,target)"
      ],
      "execution_count": 47,
      "outputs": [
        {
          "output_type": "stream",
          "text": [
            "[0, 0, 3, 4]\n"
          ],
          "name": "stdout"
        },
        {
          "output_type": "execute_result",
          "data": {
            "text/plain": [
              "[1, 2]"
            ]
          },
          "metadata": {
            "tags": []
          },
          "execution_count": 47
        }
      ]
    },
    {
      "cell_type": "markdown",
      "metadata": {
        "id": "q3a-v45HSccZ",
        "colab_type": "text"
      },
      "source": [
        "# Results\n",
        "Runtime: 64 ms, faster than 67.61% of Python3 online submissions for Two Sum II - Input array is sorted.\n",
        "Memory Usage: 13.1 MB, less than 100.00% of Python3 online submissions for Two Sum II - Input array is sorted.\n"
      ]
    }
  ]
}